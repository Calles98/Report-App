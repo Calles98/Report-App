{
 "cells": [
  {
   "cell_type": "code",
   "execution_count": null,
   "metadata": {},
   "outputs": [],
   "source": [
    "\n",
    "#Test comment"
   ]
  },
  {
   "cell_type": "code",
   "execution_count": null,
   "metadata": {
    "id": "G9NbQymr6hSq"
   },
   "outputs": [],
   "source": [
    "import os\n",
    "import pandas as pd\n",
    "import  numpy as np\n",
    "import matplotlib.pyplot as plt\n",
    "import seaborn as sns\n",
    "import warnings\n",
    "import math\n",
    "import ipywidgets as widgets\n",
    "from ipywidgets import interact\n",
    "import plotly.express as px\n",
    "from IPython.display import display, clear_output, HTML\n",
    "import plotly.graph_objects as go\n",
    "import base64\n",
    "import io\n",
    "#import pandas.io.formats.style\n",
    "warnings.filterwarnings('ignore')\n",
    "# %matplotlib inline\n"
   ]
  },
  {
   "cell_type": "code",
   "execution_count": null,
   "metadata": {},
   "outputs": [],
   "source": [
    "# Get filepath from the back end\n",
    "file_path = 'FILE_PATH_PLACEHOLDER'"
   ]
  },
  {
   "cell_type": "code",
   "execution_count": null,
   "metadata": {
    "colab": {
     "base_uri": "https://localhost:8080/",
     "height": 221
    },
    "id": "asvGjUqa6wjR",
    "outputId": "d5b4160c-eb69-4ae4-8b61-f347231aacc7"
   },
   "outputs": [],
   "source": [
    "data = pd.read_csv(file_path)\n",
    "\n",
    "#data.head()"
   ]
  },
  {
   "cell_type": "markdown",
   "metadata": {},
   "source": [
    "<h1 align='center'>Standards Report</h1>"
   ]
  },
  {
   "cell_type": "code",
   "execution_count": null,
   "metadata": {},
   "outputs": [],
   "source": [
    "def export_report(df):\n",
    "    # Custom CSS for table layout and responsiveness\n",
    "    css = \"\"\"\n",
    "    <style>\n",
    "    /* General table styling */\n",
    "    table {\n",
    "        width: 100%;\n",
    "        border-collapse: collapse;\n",
    "        table-layout: auto;\n",
    "        max-width: 100%;\n",
    "    }\n",
    "    th, td {\n",
    "        padding: 8px;\n",
    "        text-align: left;\n",
    "        border: 1px solid #ddd;\n",
    "        word-wrap: break-word;\n",
    "    }\n",
    "    \n",
    "    /* Responsive table container for small screens */\n",
    "    .scrollable-table {\n",
    "        display: block;\n",
    "        width: 100%;\n",
    "        overflow-x: auto;\n",
    "        max-width: 100%;\n",
    "        white-space: nowrap;\n",
    "    }\n",
    "\n",
    "    /* Responsive adjustments for small screens */\n",
    "    @media only screen and (max-width: 768px) {\n",
    "        th, td {\n",
    "            min-width: 120px;\n",
    "            font-size: 12px;\n",
    "        }\n",
    "    }\n",
    "    \n",
    "    /* Print-specific styles */\n",
    "    @media print {\n",
    "        .navbar, .footer, .sidebar, .button { \n",
    "            display: none; \n",
    "        }\n",
    "\n",
    "        .scrollable-table {\n",
    "            overflow: visible;\n",
    "        }\n",
    "        \n",
    "        body {\n",
    "            margin: 0;\n",
    "            padding: 0;\n",
    "        }\n",
    "        \n",
    "        table {\n",
    "            page-break-inside: auto;\n",
    "            width: 100%;\n",
    "        }\n",
    "        \n",
    "        tr {\n",
    "            page-break-inside: avoid;\n",
    "            page-break-after: auto;\n",
    "        }\n",
    "    }\n",
    "    </style>\n",
    "    \"\"\"\n",
    "    \n",
    "    \n",
    "    # Otherwise, convert the regular DataFrame to HTML\n",
    "    df_html = f'<div class=\"scrollable-table\">{df.to_html()}</div>'\n",
    "    \n",
    "    # Combine CSS and DataFrame HTML\n",
    "    full_html = css + df_html\n",
    "    display(HTML(full_html))\n",
    "    "
   ]
  },
  {
   "cell_type": "code",
   "execution_count": null,
   "metadata": {},
   "outputs": [],
   "source": [
    "def export_report_styled(df_or_styler):\n",
    "    css = \"\"\"\n",
    "    <style>\n",
    "    table {\n",
    "        width: 100%;\n",
    "        border-collapse: collapse;\n",
    "        table-layout: auto;\n",
    "        max-width: 100%;\n",
    "    }\n",
    "    th, td {\n",
    "        padding: 8px;\n",
    "        text-align: left;\n",
    "        border: 1px solid #ddd;\n",
    "        word-wrap: break-word;\n",
    "    }\n",
    "    .scrollable-table {\n",
    "        display: block;\n",
    "        width: 100%;\n",
    "        overflow-x: auto;\n",
    "        max-width: 100%;\n",
    "        white-space: nowrap;\n",
    "    }\n",
    "    @media only screen and (max-width: 768px) {\n",
    "        th, td {\n",
    "            min-width: 120px;\n",
    "            font-size: 12px;\n",
    "        }\n",
    "    }\n",
    "    @media print {\n",
    "        .scrollable-table {\n",
    "            overflow: visible;\n",
    "        }\n",
    "        body {\n",
    "            margin: 0;\n",
    "            padding: 0;\n",
    "        }\n",
    "        table {\n",
    "            page-break-inside: auto;\n",
    "            width: 100%;\n",
    "        }\n",
    "        tr {\n",
    "            page-break-inside: avoid;\n",
    "            page-break-after: auto;\n",
    "        }\n",
    "    }\n",
    "    </style>\n",
    "    \"\"\"\n",
    "\n",
    "    # Check if the input is a Styler object\n",
    "    if isinstance(df_or_styler, pd.io.formats.style.Styler):\n",
    "        # Use to_html() on Styler to retain styles\n",
    "        df_html = f'<div class=\"scrollable-table\">{df_or_styler.to_html()}</div>'\n",
    "    else:\n",
    "        # Otherwise, convert the regular DataFrame to HTML\n",
    "        df_html = f'<div class=\"scrollable-table\">{df_or_styler.to_html()}</div>'\n",
    "    \n",
    "    # Combine CSS and DataFrame HTML\n",
    "    full_html = css + df_html\n",
    "    display(HTML(full_html))\n",
    "\n"
   ]
  },
  {
   "cell_type": "code",
   "execution_count": null,
   "metadata": {},
   "outputs": [],
   "source": [
    "data_rounded = data.copy()\n",
    "numeric_columns = data.select_dtypes(include='number').columns\n",
    "data_rounded[numeric_columns].round(2)\n",
    "styled_data = data_rounded.style.set_properties(**{'font-size': '8pt'}).set_table_styles([{'selector': 'th', 'props': [{'font-size', '8pt'}]}]).format({col: \"{:.2f}\" for col in numeric_columns}).hide(axis='index')\n",
    "export_report(styled_data)"
   ]
  },
  {
   "cell_type": "code",
   "execution_count": null,
   "metadata": {
    "id": "ZaK7yRF2faXS"
   },
   "outputs": [],
   "source": [
    "# Replace some cells with 'No data' with Numpy NaN\n",
    "for col in data.columns:\n",
    "   data[col] = data[col].replace('No data', np.nan)"
   ]
  },
  {
   "cell_type": "code",
   "execution_count": null,
   "metadata": {
    "colab": {
     "base_uri": "https://localhost:8080/",
     "height": 254
    },
    "id": "0Rj2zPpA61sy",
    "outputId": "34a94179-7d9f-4e80-92e1-dc7d310894ba"
   },
   "outputs": [],
   "source": [
    "#data.iloc[:, 9:].dtypes"
   ]
  },
  {
   "cell_type": "code",
   "execution_count": null,
   "metadata": {
    "id": "ww6TAcH8-a3Q"
   },
   "outputs": [],
   "source": [
    "# Transform data to float so we don't get errors later on \n",
    "data.iloc[:, 9:] = data.iloc[:, 9:].astype(float)\n",
    "for column in data.iloc[:, 9:]:\n",
    "    if data[column].dtype == 'object':\n",
    "        data[column] = data[column].astype(np.float64)"
   ]
  },
  {
   "cell_type": "code",
   "execution_count": null,
   "metadata": {
    "colab": {
     "base_uri": "https://localhost:8080/",
     "height": 254
    },
    "id": "oFTWYfab71ky",
    "outputId": "a65855af-b787-477d-e9be-3a4c4d311397"
   },
   "outputs": [],
   "source": [
    "#data.iloc[:, 9:].dtypes"
   ]
  },
  {
   "cell_type": "markdown",
   "metadata": {},
   "source": [
    "<h1 align=\"center\">Statistics</h1>"
   ]
  },
  {
   "cell_type": "code",
   "execution_count": null,
   "metadata": {
    "id": "5scWWq3hqwRl"
   },
   "outputs": [],
   "source": [
    "def statistics(minerals):\n",
    "  min_dict = {}\n",
    "  for mineral in data[minerals]:\n",
    "    count = data[mineral].count()\n",
    "    std = data[mineral].std()\n",
    "    max = data[mineral].max()\n",
    "    min = data[mineral].min()\n",
    "    mean = data[mineral].mean()\n",
    "    mean_plus_10 = mean + (mean * 10/100)\n",
    "    mean_minus_10 = mean - (mean * 10/100)\n",
    "    ok_at_10 = np.sum(data[mineral] < mean_plus_10) - np.sum(data[mineral] <= mean_minus_10)\n",
    "    failure_greater_10 = count - ok_at_10\n",
    "    percent_failure_greater_10 = math.ceil((failure_greater_10 / count) * 100)\n",
    "    mean_plus_minus_10 = f\"{mean.round(2)} ± {((10/100)*mean).round(2)}\"\n",
    "    mean_plus_2SD = mean + (std * 2)\n",
    "    mean_minus_2SD = mean - (std * 2)\n",
    "    ok_at_2SD = np.sum(data[mineral] <= mean_plus_2SD) - np.sum(data[mineral] < mean_minus_2SD)\n",
    "    failure_greater_2SD = count - ok_at_2SD\n",
    "    percent_failure_greater_2SD = math.ceil((failure_greater_2SD / count) * 100)\n",
    "    mean_plus_minus_2SD = f\"{mean.round(2)} ± {((2*std)/mean).round(2)}\"\n",
    "    mean_plus_3SD = mean + (std * 3)\n",
    "    mean_minus_3SD = mean - (std * 3)\n",
    "    ok_at_3SD = np.sum(data[mineral] <= mean_plus_3SD) - np.sum(data[mineral] < mean_minus_3SD)\n",
    "    failure_greater_3SD = count - ok_at_3SD\n",
    "    percent_failure_greater_3SD = math.ceil((failure_greater_3SD / count) * 100)\n",
    "    mean_plus_minus_3SD = f\"{mean.round(2)} ± {((3*std)/mean).round(2)}\"\n",
    "    RSD = (std / mean) * 100\n",
    "    RSD = round(RSD, 2)\n",
    "    certification = 'Certified' if RSD <= 5 else 'Provisional' if RSD > 5 and RSD <= 15 else  'Informational'\n",
    "    acceptable_qc = 'Pass' if percent_failure_greater_10 <= 10 and RSD <= 15 else 'Fail'\n",
    "    TwoSD_less_than_10 = '2SD > 10%' if (2 * std) > (0.1 * mean)  else 'yes'\n",
    "\n",
    "    #print(mineral, 'count:', count, 'std:', std, 'max:', max, 'min:', min, 'mean:', mean, 'mean + 10%:', mean_plus_10, 'mean - 10%: ', mean_minus_10, 'mean + 2D: ', mean_plus_2SD, 'mean - 2D: ', mean_minus_2SD)\n",
    "    min_dict[mineral] = [count, std, max, min, mean, mean_plus_10, mean_minus_10, ok_at_10, failure_greater_10, percent_failure_greater_10, mean_plus_minus_10, mean_plus_2SD, mean_minus_2SD, ok_at_2SD, failure_greater_2SD, percent_failure_greater_2SD, mean_plus_minus_2SD, mean_plus_3SD, mean_minus_3SD,\n",
    "                         ok_at_3SD, failure_greater_3SD, percent_failure_greater_3SD, mean_minus_3SD, RSD, certification, acceptable_qc, TwoSD_less_than_10]\n",
    "  return min_dict\n"
   ]
  },
  {
   "cell_type": "code",
   "execution_count": null,
   "metadata": {
    "colab": {
     "base_uri": "https://localhost:8080/",
     "height": 349
    },
    "id": "VP2fKrxE-3B-",
    "outputId": "6e480c11-5018-4604-bf8a-be26ba455201"
   },
   "outputs": [],
   "source": [
    "stat_data = list(data.columns[9:].values.tolist())\n",
    "stats = statistics(stat_data)\n",
    "stats_df = pd.DataFrame.from_dict(stats, orient='index', columns=['count', 'std', 'max', 'min', 'mean', 'mean + 10%', 'mean - 10%', 'Ok @ 10', 'Failures > 10%', '% Failures > 10%', 'Mean ± 10%', 'mean + 2SD', 'mean - 2SD', 'Ok @ 2SD', 'Failures > 2SD', '% Failures > 2SD', 'Mean ± 2SD', 'mean + 3SD', 'mean - 3SD', 'Ok @ 3SD', 'Failures > 3SD', '% Failures > 3SD', 'Mean ± 3SD',\n",
    "                                                                  'RSD', 'Certification' , 'Acceptable QC?', '2SD < 10%'])\n",
    "#stats_df"
   ]
  },
  {
   "cell_type": "code",
   "execution_count": null,
   "metadata": {
    "colab": {
     "base_uri": "https://localhost:8080/",
     "height": 420
    },
    "id": "XR4lzGAYLnjw",
    "outputId": "830e2d20-74a4-4542-b084-64d8399b2b6c"
   },
   "outputs": [],
   "source": [
    "def style_cert(s):\n",
    "  return [\n",
    "      'background-color: red' if v == 'Informational' else\n",
    "      'background-color: yellow' if v == 'Provisional' else\n",
    "      'background-color: green' for v in s\n",
    "  ]\n",
    "def style_qc(s):\n",
    "  return [\n",
    "      'color: blue' if v == 'Pass' else\n",
    "      'color: red' for v in s\n",
    "  ]\n",
    "def style_2SD(s):\n",
    "  return [\n",
    "      'color: red' if v == '2SD > 10%' else\n",
    "      '' for v in s\n",
    "  ]\n",
    "df_rounded = stats_df.copy()\n",
    "numeric_columns = data.select_dtypes(include='number').columns\n",
    "df_rounded[numeric_columns] = data[numeric_columns].round(2)\n",
    "styled_df = df_rounded.style.apply(style_cert, subset=['Certification']).apply(style_qc, subset=['Acceptable QC?']).apply(style_2SD, subset=['2SD < 10%']).set_properties(**{'font-size': '8pt'}).set_table_styles([{'selector': 'th', 'props': [('font-size', '8pt')]}]).format({col: \"{:.2f}\" for col in numeric_columns}).hide(axis='index')\n",
    "export_report_styled(styled_df)\n"
   ]
  },
  {
   "cell_type": "code",
   "execution_count": null,
   "metadata": {},
   "outputs": [],
   "source": [
    "# Function to create a downloadable Excel file with two sheets\n",
    "def create_download_link_multi_sheet(df1, df2, filename=\"Report.xlsx\"):\n",
    "    # Save the DataFrames to an in-memory Excel file with two sheets\n",
    "    excel_buffer = io.BytesIO()\n",
    "    with pd.ExcelWriter(excel_buffer, engine='openpyxl') as writer:\n",
    "        df1.to_excel(writer, sheet_name='Sheet1', index=False)\n",
    "        df2.to_excel(writer, sheet_name='Sheet2', index=False)\n",
    "    \n",
    "    excel_buffer.seek(0)  # Go to the beginning of the in-memory file\n",
    "    \n",
    "    # Convert the Excel file to a base64-encoded string\n",
    "    b64 = base64.b64encode(excel_buffer.read()).decode()\n",
    "    \n",
    "    # Create the HTML button with the download link\n",
    "    return HTML(f\"\"\"\n",
    "        <a download=\"{filename}\" href=\"data:application/vnd.openxmlformats-officedocument.spreadsheetml.sheet;base64,{b64}\" target=\"_blank\">\n",
    "            <button style=\"font-size:16px; padding:10px; color:white; background-color:green; border:none; border-radius:5px;\">\n",
    "                Download Excel\n",
    "            </button>\n",
    "        </a>\n",
    "    \"\"\")\n",
    "\n",
    "# Display the button\n",
    "create_download_link_multi_sheet(styled_data, styled_df)"
   ]
  },
  {
   "cell_type": "markdown",
   "metadata": {},
   "source": [
    "<h1 align=\"center\">Plots</h1>"
   ]
  },
  {
   "cell_type": "code",
   "execution_count": null,
   "metadata": {
    "id": "wc9RNXEwUTHH"
   },
   "outputs": [],
   "source": [
    "\n",
    "# Plotting function\n",
    "def plot_stats_sequence(minerals):\n",
    "    plot_stats_sequence_fig = go.Figure()\n",
    "    x_data = data['Seq#']\n",
    "    for mineral in minerals: \n",
    "    \n",
    "        # Handling the data (scalars vs arrays)\n",
    "        y_data_mean = [stats_df['mean'][mineral]] * len(x_data) if isinstance(stats_df['mean'][mineral], (np.float64, float)) else stats_df['mean'][mineral]\n",
    "        y_data_plus_10 = [stats_df[f'mean + 10%'][mineral]] * len(x_data) if isinstance(stats_df[f'mean + 10%'][mineral], (np.float64, float)) else stats_df[f'mean + 10%'][mineral]\n",
    "        y_data_minus_10 = [stats_df[f'mean - 10%'][mineral]] * len(x_data) if isinstance(stats_df[f'mean - 10%'][mineral], (np.float64, float)) else stats_df[f'mean - 10%'][mineral]\n",
    "        y_data_analysis = data[mineral]\n",
    "\n",
    "        # Create the plot\n",
    "        #fig = go.Figure()\n",
    "\n",
    "        plot_stats_sequence_fig.add_trace(go.Scatter(x=x_data, y=y_data_mean, mode='lines', name='mean', visible=False))\n",
    "        plot_stats_sequence_fig.add_trace(go.Scatter(x=x_data, y=y_data_analysis, mode='markers', name='Analysis', visible=False, marker=dict(color='red')))\n",
    "        plot_stats_sequence_fig.add_trace(go.Scatter(x=x_data, y=y_data_analysis, mode='lines', visible=False, line=dict(color='red')))\n",
    "        plot_stats_sequence_fig.add_trace(go.Scatter(x=x_data, y=y_data_plus_10, mode='lines', name='mean + 10%', visible=False, line=dict(dash='dash', color='red')))\n",
    "        plot_stats_sequence_fig.add_trace(go.Scatter(x=x_data, y=y_data_minus_10, mode='lines', name='mean - 10%', visible=False, line=dict(dash='dash', color='red')))\n",
    "    \n",
    "    for i in  range(5): \n",
    "        plot_stats_sequence_fig.data[i].visible = True\n",
    "\n",
    "    dropdown_buttons = []\n",
    "\n",
    "    for i, mineral in enumerate(minerals):\n",
    "        dropdown_buttons.append({\n",
    "            'args': [{'visible': [False] * len(plot_stats_sequence_fig.data)},\n",
    "                     {'title': f\"Evelyn Project {data['Original QC'][0]} {data['Standard'][0]} @ {data['Lab'][0]}\",\n",
    "                      'xaxis.title.text': f\"Sequence Number\", \n",
    "                      'yaxis.title.text': f\"{mineral[:2]}\"\n",
    "                      }],\n",
    "            'label': mineral, \n",
    "            'method': 'update'\n",
    "        })\n",
    "\n",
    "        dropdown_buttons[i]['args'][0]['visible'][i * 5:i * 5 + 5] = [True, True, True, True, True]\n",
    "\n",
    "    plot_stats_sequence_fig.update_layout(\n",
    "            updatemenus = [{\n",
    "                'buttons':  dropdown_buttons,\n",
    "                'direction': 'down', \n",
    "                'showactive': True, \n",
    "                'pad': {'r': 5}\n",
    "            }], \n",
    "            title=f\"Evelyn Project {data['Original QC'][0]} {data['Standard'][0]} @ {data['Lab'][0]}\",\n",
    "            xaxis_title=f\"Sequence Number\", \n",
    "            yaxis_title=f\"{minerals[0][:2]}\",\n",
    "            width=900,  # Adjust this value based on your needs\n",
    "            height=600  # Adjust this value based on your needs\n",
    "    )\n",
    "\n",
    "    plot_stats_sequence_fig.show()\n",
    "\n",
    "\n",
    "\n",
    "\n"
   ]
  },
  {
   "cell_type": "code",
   "execution_count": null,
   "metadata": {
    "colab": {
     "base_uri": "https://localhost:8080/",
     "height": 669,
     "referenced_widgets": [
      "e2ac5873f12948bf979ec42199175316",
      "ba18e9f03b584c8688464d518f75e4ed",
      "8d8ae4d443ba438c89bc9b6ce4695d9b",
      "ae490f0699e04375a84585730e6a2692",
      "75bf3d520d92404e9a61ef39917b993b",
      "4565dcce4488471bbad1d2ec750e5c79",
      "395c28907bae43249052bdbf96810079",
      "f06198056f0944f1b01312da611e947d",
      "798ec2486a63432e8776e462da5fe0c1",
      "553cc3fb471041629449007748df42b3",
      "ee86cf0ca57445fbbcb48c1b4aa2f6fd",
      "8fc31cc23f544b51bacad4d552565fbf",
      "5321721e9f674d33a9343636a423d9cf",
      "9c8f7595653a444683a1afad24de080f",
      "05e3dcbc53a0432088ee919c2963b632",
      "29679a245f174d9d98a6f59d0ebd4b68",
      "c8b9c78b7c5d4418a4e95747e9ee8c79",
      "1d69bd0cad8f4141ad080f6e08a5700c",
      "a378eea2e80744ff94520f4eab2d0182",
      "47e70a3b9a074906b16bc983ad0d9aed",
      "6a01546328ae4ebf81ba6e78e0424e16",
      "635b68d673414d40b80fd7507e197fe7",
      "614af83df74746c9b4f1db6fb17a69f1",
      "4113a4ac108046c1bb477909863a6b77",
      "3b5c47d106d2490db89ab02c1e87f307",
      "56708c4dd8fa4245b18f2bcdd9b2ccc9",
      "56107f4aa907491a8ed79e744dfc3b0a",
      "73430bccf1174432a142279d2b9345ad",
      "7c9323abd70c4b7bb36aa350d0365679",
      "eb257b998f5e4ed39b2f4f84c83b8b7d",
      "12437fe15f274c33948fd6981579c7d1"
     ]
    },
    "id": "NO2wFr25DLtN",
    "outputId": "dbb1fb9b-8210-4383-b900-fa8f64110265"
   },
   "outputs": [],
   "source": [
    "plot_stats_sequence(stat_data)\n"
   ]
  },
  {
   "cell_type": "code",
   "execution_count": null,
   "metadata": {
    "id": "Upi2uUQjkzhH"
   },
   "outputs": [],
   "source": [
    "data['Cert Date'] = pd.to_datetime(data['Cert Date'], format='mixed', dayfirst=True)"
   ]
  },
  {
   "cell_type": "code",
   "execution_count": null,
   "metadata": {},
   "outputs": [],
   "source": [
    "\n",
    "\n",
    "def plot_stats_dates(elements):\n",
    "    plot_stats_dates_fig = go.Figure()\n",
    "    x_data = data['Cert Date']\n",
    "\n",
    "    # Add traces for each element\n",
    "    for element in elements:\n",
    "        y_data_mean = [stats_df['mean'][element]] * len(x_data) if isinstance(stats_df['mean'][element], (np.float64, float)) else stats_df['mean'][element]\n",
    "        y_data_analysis = data[element]\n",
    "        y_data_plus_10 = [stats_df['mean + 10%'][element]] * len(x_data) if isinstance(stats_df['mean + 10%'][element], (np.float64, float)) else stats_df['mean + 10%'][element]\n",
    "        y_data_minus_10 = [stats_df['mean - 10%'][element]] * len(x_data) if isinstance(stats_df['mean - 10%'][element], (np.float64, float)) else stats_df['mean - 10%'][element]\n",
    "        y_data_plus_2SD = [stats_df['mean + 2SD'][element]] * len(x_data) if isinstance(stats_df['mean + 2SD'][element], (np.float64, float)) else stats_df['mean + 2SD'][element]\n",
    "        y_data_minus_2SD = [stats_df['mean - 2SD'][element]] * len(x_data) if isinstance(stats_df['mean - 2SD'][element], (np.float64, float)) else stats_df['mean - 2SD'][element]\n",
    "        y_data_plus_3SD = [stats_df['mean + 3SD'][element]] * len(x_data) if isinstance(stats_df['mean + 3SD'][element], (np.float64, float)) else stats_df['mean + 3SD'][element]\n",
    "        y_data_minus_3SD = [stats_df['mean - 3SD'][element]] * len(x_data) if isinstance(stats_df['mean - 3SD'][element], (np.float64, float)) else stats_df['mean - 3SD'][element]\n",
    "\n",
    "        # Add 8 traces for the current element\n",
    "        plot_stats_dates_fig.add_trace(go.Scatter(x=x_data, y=y_data_mean, mode='lines', name=f'{element} mean', visible=False))\n",
    "        plot_stats_dates_fig.add_trace(go.Scatter(x=x_data, y=y_data_analysis, mode='markers', name=f'{element} Analysis', visible=False, marker=dict(color='red')))\n",
    "        plot_stats_dates_fig.add_trace(go.Scatter(x=x_data, y=y_data_plus_10, mode='lines', name=f'{element} Mean + 10%', visible=False, line=dict(dash='dash', color='red')))\n",
    "        plot_stats_dates_fig.add_trace(go.Scatter(x=x_data, y=y_data_minus_10, mode='lines', name=f'{element} Mean - 10%', visible=False, line=dict(dash='dash', color='red')))\n",
    "        plot_stats_dates_fig.add_trace(go.Scatter(x=x_data, y=y_data_plus_2SD, mode='lines', name=f'{element} Mean + 2SD', visible=False, line=dict(dash='dash', color='blue')))\n",
    "        plot_stats_dates_fig.add_trace(go.Scatter(x=x_data, y=y_data_minus_2SD, mode='lines', name=f'{element} Mean - 2SD', visible=False, line=dict(dash='dash', color='blue')))\n",
    "        plot_stats_dates_fig.add_trace(go.Scatter(x=x_data, y=y_data_plus_3SD, mode='lines', name=f'{element} Mean + 3SD', visible=False, line=dict(dash='dash', color='green')))\n",
    "        plot_stats_dates_fig.add_trace(go.Scatter(x=x_data, y=y_data_minus_3SD, mode='lines', name=f'{element} Mean - 3SD', visible=False, line=dict(dash='dash', color='green')))\n",
    "\n",
    "    # Make the first set of 8 traces visible by default\n",
    "    for i in range(8):\n",
    "        plot_stats_dates_fig.data[i].visible = True\n",
    "\n",
    "    # Create dropdown buttons\n",
    "    dropdown_buttons = []\n",
    "\n",
    "    for i, element in enumerate(elements):\n",
    "        dropdown_buttons.append({\n",
    "            'args': [{'visible': [False] * len(plot_stats_dates_fig.data)},\n",
    "                     {'title': f\"Evelyn Project {data['Original QC'][0]} {data['Standard'][0]} @ {data['Lab'][0]}\",\n",
    "                      'xaxis.title.text': \"Date\", \n",
    "                      'yaxis.title.text': f\"{element[:2]}\"}\n",
    "                    ],\n",
    "            'label': element, \n",
    "            'method': 'update'\n",
    "        })\n",
    "\n",
    "        # Set the corresponding 8 traces for the current element to visible\n",
    "        dropdown_buttons[i]['args'][0]['visible'][i * 8:i * 8 + 8] = [True] * 8\n",
    "\n",
    "    # Add the dropdown menu and update layout\n",
    "    plot_stats_dates_fig.update_layout(\n",
    "        updatemenus=[{\n",
    "            'buttons': dropdown_buttons,\n",
    "            'direction': 'down', \n",
    "            'showactive': True, \n",
    "            'pad': {'r': 5}\n",
    "        }],\n",
    "        title=f\"Evelyn Project {data['Original QC'][0]} {data['Standard'][0]} @ {data['Lab'][0]}\",\n",
    "        xaxis_title=\"Date\", \n",
    "        yaxis_title=elements[0][:2],  # Default to the first element\n",
    "        xaxis_rangeslider=dict(visible=True),  # Adding range slider for the dates \n",
    "        width=900,  # Adjust this value based on your needs\n",
    "        height=600  # Adjust this value based on your needs\n",
    "    )   \n",
    "\n",
    "    plot_stats_dates_fig.show()\n",
    "\n",
    "   \n",
    "\n",
    "    \n",
    "\n"
   ]
  },
  {
   "cell_type": "code",
   "execution_count": null,
   "metadata": {
    "colab": {
     "base_uri": "https://localhost:8080/",
     "height": 669,
     "referenced_widgets": [
      "e93851c36d8c4bd3958c3b53a082d3e8",
      "3da6e1247885447aafee794f746d5fa1",
      "4df00dad543544a28d26fe08318ca660",
      "ed64727caefd43f584428f681c61db8d",
      "2a6c090391ae45aeb69c68375c50cb10",
      "255d71204e9d4b219c9548da2b7c5586",
      "7bc01bfd024042f39673fbf6790f505d",
      "e8f292b084654e6b8b810dc66e9f689b",
      "e671c67a2c7b47039bc8348ba0ee4653",
      "81917f966b5f4e97af004b9719fb5363",
      "0cfbc5cb566146f7ac36b7ba23e4b396",
      "93f194c4c0ef4592ae8e2e554eeff9fc",
      "69f0ad6c995e4da0be350a6dda56f997",
      "6719a703b91a49a994b5378aaa0cb657",
      "b18947df7f364cd78c2c7216b58c09e0",
      "68b758eca4034366afb6eb5506cd639d",
      "b5a8fee2376a4eef8a33491d7f23caa9"
     ]
    },
    "id": "FqUOVP1NV6lP",
    "outputId": "8e325257-3ab9-47e5-8ae1-705cb078878e"
   },
   "outputs": [],
   "source": [
    "plot_stats_dates(stat_data)\n"
   ]
  },
  {
   "cell_type": "code",
   "execution_count": null,
   "metadata": {},
   "outputs": [],
   "source": [
    "from IPython.display import display, HTML\n",
    "\n",
    "# HTML and JS for the print button with print styles\n",
    "html_code = \"\"\"\n",
    "    <style>\n",
    "        @media print {\n",
    "            @page {\n",
    "                size: landscape; /* Set the page size to landscape */\n",
    "            }\n",
    "            body {\n",
    "                transform: scale(0.9); /* Optional: Scale down the body if necessary */\n",
    "                transform-origin: top left; /* Set the transform origin */\n",
    "            }\n",
    "        }\n",
    "    </style>\n",
    "    <button style=\"font-size:16px; padding:10px; color:white; background-color:green; border:none; border-radius:5px;\" onclick=\"window.print()\">Print this page</button>\n",
    "\"\"\"\n",
    "\n",
    "# Display the print button in the notebook, which will be included in the HTML output\n",
    "display(HTML(html_code))"
   ]
  },
  {
   "cell_type": "code",
   "execution_count": null,
   "metadata": {},
   "outputs": [],
   "source": []
  }
 ],
 "metadata": {
  "colab": {
   "provenance": []
  },
  "kernelspec": {
   "display_name": "Python 3 (ipykernel)",
   "language": "python",
   "name": "python3"
  },
  "language_info": {
   "codemirror_mode": {
    "name": "ipython",
    "version": 3
   },
   "file_extension": ".py",
   "mimetype": "text/x-python",
   "name": "python",
   "nbconvert_exporter": "python",
   "pygments_lexer": "ipython3",
   "version": "3.9.7"
  }
 },
 "nbformat": 4,
 "nbformat_minor": 1
}
